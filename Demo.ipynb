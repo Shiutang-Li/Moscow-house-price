{
 "cells": [
  {
   "cell_type": "markdown",
   "metadata": {},
   "source": [
    "### 1. download data sets"
   ]
  },
  {
   "cell_type": "markdown",
   "metadata": {},
   "source": [
    "Visit: https://www.kaggle.com/c/allstate-claims-severity/data <br\\>\n",
    "You need to accept the competition rules in order to download the datasets:\n",
    "train.csv\n",
    "test.csv"
   ]
  },
  {
   "cell_type": "markdown",
   "metadata": {},
   "source": [
    "### 2. import packages"
   ]
  },
  {
   "cell_type": "code",
   "execution_count": 1,
   "metadata": {
    "collapsed": false
   },
   "outputs": [],
   "source": [
    "import pandas as pd\n",
    "import numpy as np\n",
    "import xgboost as xgb\n",
    "import matplotlib.pyplot as plt\n",
    "%matplotlib inline  \n",
    "import seaborn as sns\n",
    "import time\n",
    "from copy import deepcopy\n",
    "from sklearn.model_selection import train_test_split"
   ]
  },
  {
   "cell_type": "markdown",
   "metadata": {},
   "source": [
    "### 3. read data + lexical encoding"
   ]
  },
  {
   "cell_type": "code",
   "execution_count": 2,
   "metadata": {
    "collapsed": false
   },
   "outputs": [],
   "source": [
    "train = pd.read_csv('train.csv')\n",
    "test  = pd.read_csv('test.csv')\n",
    "\n",
    "test['loss'] = np.nan\n",
    "data = pd.concat([train, test])\n",
    "\n",
    "# lexical encoding (not recommended if the categorical feature is not ordinal)\n",
    "categorical_list = list(data.select_dtypes(include=['object']).columns)\n",
    "for column in categorical_list:\n",
    "    data[column] = pd.factorize(data[column].values, sort=True)[0]\n",
    "\n",
    "train  = data[data['loss'].notnull()]\n",
    "train  = train.iloc[:10000]               # Use only first 10000 obs\n",
    "train2 = deepcopy(train)                  # make a copy for later use \n",
    "del train2['id']\n",
    "test   = data[data['loss'].isnull()]\n",
    "\n",
    "test_id = test['id']\n",
    "y_train = train['loss'] \n",
    "del train['id']\n",
    "del train['loss'] \n",
    "del test['id']\n",
    "del test['loss']"
   ]
  },
  {
   "cell_type": "markdown",
   "metadata": {},
   "source": [
    "### 4. take a look at the shape of data"
   ]
  },
  {
   "cell_type": "code",
   "execution_count": 3,
   "metadata": {
    "collapsed": false
   },
   "outputs": [
    {
     "name": "stdout",
     "output_type": "stream",
     "text": [
      "(10000, 130)\n",
      "(125546, 130)\n",
      "(10000,)\n",
      "3051.6737099999978\n"
     ]
    }
   ],
   "source": [
    "print(train.shape)      # X_train\n",
    "print(test.shape)       # X_test\n",
    "print(y_train.shape)    # y_train\n",
    "\n",
    "print(np.mean(y_train)) # used as base_score"
   ]
  },
  {
   "cell_type": "markdown",
   "metadata": {},
   "source": [
    "### 5. tune parameters- approach 1: xgb.cv"
   ]
  },
  {
   "cell_type": "code",
   "execution_count": 4,
   "metadata": {
    "collapsed": false
   },
   "outputs": [],
   "source": [
    "X_y_train = xgb.DMatrix(data=train, label=y_train)\n",
    "X_test    = xgb.DMatrix(data=test)\n",
    "params_recorder_1 = None"
   ]
  },
  {
   "cell_type": "code",
   "execution_count": 9,
   "metadata": {
    "collapsed": true
   },
   "outputs": [],
   "source": [
    "params = {\n",
    "          'base_score': np.mean(y_train),\n",
    "          'eta':  0.1,\n",
    "          'max_depth': 3,\n",
    "          'colsample_bytree': 0.5,\n",
    "          'subsample': 0.7,\n",
    "          'lambda': 1.3,\n",
    "          'gamma': 1,\n",
    "          'seed': 2017,\n",
    "          'updater':'grow_gpu_hist',\n",
    "          'tree_method' :'exact',\n",
    "          'objective'   :'reg:linear',\n",
    "          'eval_metric' :'rmse'\n",
    "         }"
   ]
  },
  {
   "cell_type": "code",
   "execution_count": 13,
   "metadata": {
    "collapsed": false
   },
   "outputs": [
    {
     "name": "stdout",
     "output_type": "stream",
     "text": [
      "[0]\ttrain-rmse:2784.44+11.6815\ttest-rmse:2787.8+44.5866\n",
      "[20]\ttrain-rmse:2127.45+9.3644\ttest-rmse:2194.45+32.0056\n",
      "[40]\ttrain-rmse:1972.69+12.5699\ttest-rmse:2089.71+35.1147\n",
      "[60]\ttrain-rmse:1893.49+11.2877\ttest-rmse:2047.05+34.0277\n",
      "[80]\ttrain-rmse:1843.63+11.7344\ttest-rmse:2028.17+32.9627\n",
      "[100]\ttrain-rmse:1807.03+9.66732\ttest-rmse:2017.11+32.5233\n",
      "[120]\ttrain-rmse:1777.24+10.2618\ttest-rmse:2011.88+33.9233\n",
      "[140]\ttrain-rmse:1751.74+10.7164\ttest-rmse:2006.86+32.384\n",
      "[160]\ttrain-rmse:1727.66+8.89497\ttest-rmse:2002.07+35.6519\n",
      "[180]\ttrain-rmse:1706.76+9.32067\ttest-rmse:2002.42+32.9969\n",
      "[200]\ttrain-rmse:1687.11+10.0502\ttest-rmse:2001.04+31.8964\n",
      "[220]\ttrain-rmse:1669.62+10.1788\ttest-rmse:2000.24+30.8699\n",
      "[240]\ttrain-rmse:1653.43+10.1351\ttest-rmse:2000.34+29.2298\n",
      "--- 5.928269863128662 seconds ---\n"
     ]
    }
   ],
   "source": [
    "start_time = time.time()\n",
    "cv_table = xgb.cv(params=params,  \n",
    "                  dtrain=X_y_train, \n",
    "                  num_boost_round=10000,\n",
    "                  nfold=5,\n",
    "                  verbose_eval = 20,\n",
    "                  early_stopping_rounds = 30,\n",
    "                  seed =1)\n",
    "print(\"--- %s seconds ---\" % (time.time() - start_time))"
   ]
  },
  {
   "cell_type": "markdown",
   "metadata": {},
   "source": [
    "#### record parameters"
   ]
  },
  {
   "cell_type": "code",
   "execution_count": 14,
   "metadata": {
    "collapsed": false
   },
   "outputs": [
    {
     "data": {
      "text/html": [
       "<div>\n",
       "<table border=\"1\" class=\"dataframe\">\n",
       "  <thead>\n",
       "    <tr style=\"text-align: right;\">\n",
       "      <th></th>\n",
       "      <th>eta</th>\n",
       "      <th>max_d</th>\n",
       "      <th>gamma</th>\n",
       "      <th>lambda</th>\n",
       "      <th>colsample</th>\n",
       "      <th>subsample</th>\n",
       "      <th>base</th>\n",
       "      <th>seed</th>\n",
       "      <th>round</th>\n",
       "      <th>eval</th>\n",
       "      <th>Test_error</th>\n",
       "      <th>Train_error</th>\n",
       "    </tr>\n",
       "  </thead>\n",
       "  <tbody>\n",
       "    <tr>\n",
       "      <th>0</th>\n",
       "      <td>0.1</td>\n",
       "      <td>3</td>\n",
       "      <td>1</td>\n",
       "      <td>1.3</td>\n",
       "      <td>0.5</td>\n",
       "      <td>0.7</td>\n",
       "      <td>3051.67371</td>\n",
       "      <td>2017</td>\n",
       "      <td>227</td>\n",
       "      <td>rmse</td>\n",
       "      <td>1999.179077</td>\n",
       "      <td>1664.536475</td>\n",
       "    </tr>\n",
       "  </tbody>\n",
       "</table>\n",
       "</div>"
      ],
      "text/plain": [
       "   eta  max_d  gamma  lambda  colsample  subsample        base  seed  round  \\\n",
       "0  0.1      3      1     1.3        0.5        0.7  3051.67371  2017    227   \n",
       "\n",
       "   eval   Test_error  Train_error  \n",
       "0  rmse  1999.179077  1664.536475  "
      ]
     },
     "execution_count": 14,
     "metadata": {},
     "output_type": "execute_result"
    }
   ],
   "source": [
    "params2 = {}\n",
    "for item in params:\n",
    "    params2[item] = [params[item]]\n",
    "observation = pd.DataFrame(params2)\n",
    "observation['round'] =  cv_table.shape[0]\n",
    "observation['Test_error'] =  cv_table.iloc[cv_table.shape[0]-1][cv_table.columns[0]]\n",
    "observation['Train_error'] =  cv_table.iloc[cv_table.shape[0]-1][cv_table.columns[2]]\n",
    "\n",
    "displayed_columns = ['eta', 'max_depth', 'gamma', 'lambda', 'colsample_bytree', 'subsample',\n",
    "                     'base_score', 'seed', 'round', 'eval_metric', 'Test_error', 'Train_error']\n",
    "observation = observation[displayed_columns]\n",
    "observation.columns = ['eta', 'max_d', 'gamma', 'lambda', 'colsample', 'subsample',\n",
    "                       'base', 'seed', 'round', 'eval','Test_error', 'Train_error']\n",
    "\n",
    "observation.head()"
   ]
  },
  {
   "cell_type": "code",
   "execution_count": 15,
   "metadata": {
    "collapsed": false
   },
   "outputs": [
    {
     "data": {
      "text/html": [
       "<div>\n",
       "<table border=\"1\" class=\"dataframe\">\n",
       "  <thead>\n",
       "    <tr style=\"text-align: right;\">\n",
       "      <th></th>\n",
       "      <th>eta</th>\n",
       "      <th>max_d</th>\n",
       "      <th>gamma</th>\n",
       "      <th>lambda</th>\n",
       "      <th>colsample</th>\n",
       "      <th>subsample</th>\n",
       "      <th>base</th>\n",
       "      <th>seed</th>\n",
       "      <th>round</th>\n",
       "      <th>eval</th>\n",
       "      <th>Test_error</th>\n",
       "      <th>Train_error</th>\n",
       "    </tr>\n",
       "  </thead>\n",
       "  <tbody>\n",
       "    <tr>\n",
       "      <th>0</th>\n",
       "      <td>0.1</td>\n",
       "      <td>3</td>\n",
       "      <td>1</td>\n",
       "      <td>1.3</td>\n",
       "      <td>0.5</td>\n",
       "      <td>0.7</td>\n",
       "      <td>3051.67371</td>\n",
       "      <td>2017</td>\n",
       "      <td>213</td>\n",
       "      <td>rmse</td>\n",
       "      <td>2002.511572</td>\n",
       "      <td>1675.263184</td>\n",
       "    </tr>\n",
       "    <tr>\n",
       "      <th>0</th>\n",
       "      <td>0.1</td>\n",
       "      <td>3</td>\n",
       "      <td>1</td>\n",
       "      <td>1.3</td>\n",
       "      <td>0.5</td>\n",
       "      <td>0.7</td>\n",
       "      <td>3051.67371</td>\n",
       "      <td>2017</td>\n",
       "      <td>226</td>\n",
       "      <td>rmse</td>\n",
       "      <td>1997.669141</td>\n",
       "      <td>1663.499438</td>\n",
       "    </tr>\n",
       "    <tr>\n",
       "      <th>0</th>\n",
       "      <td>0.1</td>\n",
       "      <td>3</td>\n",
       "      <td>1</td>\n",
       "      <td>1.3</td>\n",
       "      <td>0.5</td>\n",
       "      <td>0.7</td>\n",
       "      <td>3051.67371</td>\n",
       "      <td>2017</td>\n",
       "      <td>227</td>\n",
       "      <td>rmse</td>\n",
       "      <td>1999.179077</td>\n",
       "      <td>1664.536475</td>\n",
       "    </tr>\n",
       "  </tbody>\n",
       "</table>\n",
       "</div>"
      ],
      "text/plain": [
       "   eta  max_d  gamma  lambda  colsample  subsample        base  seed  round  \\\n",
       "0  0.1      3      1     1.3        0.5        0.7  3051.67371  2017    213   \n",
       "0  0.1      3      1     1.3        0.5        0.7  3051.67371  2017    226   \n",
       "0  0.1      3      1     1.3        0.5        0.7  3051.67371  2017    227   \n",
       "\n",
       "   eval   Test_error  Train_error  \n",
       "0  rmse  2002.511572  1675.263184  \n",
       "0  rmse  1997.669141  1663.499438  \n",
       "0  rmse  1999.179077  1664.536475  "
      ]
     },
     "execution_count": 15,
     "metadata": {},
     "output_type": "execute_result"
    }
   ],
   "source": [
    "params_recorder_1 = pd.concat([params_recorder_1, observation])\n",
    "params_recorder_1.head(20)"
   ]
  },
  {
   "cell_type": "markdown",
   "metadata": {},
   "source": [
    "#### build predictive models"
   ]
  },
  {
   "cell_type": "code",
   "execution_count": 16,
   "metadata": {
    "collapsed": false
   },
   "outputs": [],
   "source": [
    "model = xgb.train(params=params,  \n",
    "                  dtrain=X_y_train, \n",
    "                  num_boost_round=215)"
   ]
  },
  {
   "cell_type": "markdown",
   "metadata": {},
   "source": [
    "### 5. tune parameters- approach 2: watch list"
   ]
  },
  {
   "cell_type": "code",
   "execution_count": 17,
   "metadata": {
    "collapsed": false
   },
   "outputs": [],
   "source": [
    "params_recorder_2 = None\n",
    "\n",
    "train, valid = train_test_split(train2, test_size = 0.2, random_state = 42)\n",
    "y_train = train['loss']\n",
    "y_valid = valid['loss']\n",
    "del train['loss']\n",
    "del valid['loss']\n",
    "\n",
    "DM_train = xgb.DMatrix(data=train, label=y_train)\n",
    "DM_valid = xgb.DMatrix(data=valid, label=y_valid)\n",
    "watchlist = [(DM_train, 'train'), (DM_valid, 'valid')]"
   ]
  },
  {
   "cell_type": "code",
   "execution_count": 21,
   "metadata": {
    "collapsed": false
   },
   "outputs": [
    {
     "name": "stdout",
     "output_type": "stream",
     "text": [
      "[0]\ttrain-rmse:2750.13\tvalid-rmse:2801.14\n",
      "Multiple eval metrics have been passed: 'valid-rmse' will be used for early stopping.\n",
      "\n",
      "Will train until valid-rmse hasn't improved in 50 rounds.\n",
      "[20]\ttrain-rmse:2007.46\tvalid-rmse:2181.77\n",
      "[40]\ttrain-rmse:1824.57\tvalid-rmse:2088.74\n",
      "[60]\ttrain-rmse:1737.65\tvalid-rmse:2059.74\n",
      "[80]\ttrain-rmse:1672.63\tvalid-rmse:2049.05\n",
      "[100]\ttrain-rmse:1628.29\tvalid-rmse:2044.9\n",
      "[120]\ttrain-rmse:1586.64\tvalid-rmse:2033.96\n",
      "[140]\ttrain-rmse:1551.08\tvalid-rmse:2044.02\n",
      "[160]\ttrain-rmse:1517.73\tvalid-rmse:2043.38\n",
      "Stopping. Best iteration:\n",
      "[120]\ttrain-rmse:1586.64\tvalid-rmse:2033.96\n",
      "\n"
     ]
    }
   ],
   "source": [
    "params = {\n",
    "          'base_score': np.mean(y_train),\n",
    "          'eta':  0.1,\n",
    "          'max_depth': 4,\n",
    "          'colsample_bytree': 0.7,\n",
    "          'subsample': 0.7,\n",
    "          'lambda': 1.3,\n",
    "          'gamma': 1.2,\n",
    "          'seed': 2017,\n",
    "          'tree_method' :'exact',\n",
    "          'objective'   :'reg:linear',\n",
    "          'eval_metric' :'rmse'\n",
    "         }\n",
    "\n",
    "model  = xgb.train(params=params,  \n",
    "                   dtrain=DM_train, \n",
    "                   num_boost_round=10000,\n",
    "                   evals=watchlist,\n",
    "                   early_stopping_rounds=50,\n",
    "                   verbose_eval=20\n",
    "                  )"
   ]
  },
  {
   "cell_type": "markdown",
   "metadata": {},
   "source": [
    "#### record parameters"
   ]
  },
  {
   "cell_type": "code",
   "execution_count": 22,
   "metadata": {
    "collapsed": false
   },
   "outputs": [
    {
     "data": {
      "text/html": [
       "<div>\n",
       "<table border=\"1\" class=\"dataframe\">\n",
       "  <thead>\n",
       "    <tr style=\"text-align: right;\">\n",
       "      <th></th>\n",
       "      <th>eta</th>\n",
       "      <th>max_d</th>\n",
       "      <th>gamma</th>\n",
       "      <th>lambda</th>\n",
       "      <th>colsample</th>\n",
       "      <th>subsample</th>\n",
       "      <th>base</th>\n",
       "      <th>seed</th>\n",
       "      <th>round</th>\n",
       "      <th>eval</th>\n",
       "      <th>Valid_error</th>\n",
       "    </tr>\n",
       "  </thead>\n",
       "  <tbody>\n",
       "    <tr>\n",
       "      <th>0</th>\n",
       "      <td>0.1</td>\n",
       "      <td>4</td>\n",
       "      <td>1.2</td>\n",
       "      <td>1.3</td>\n",
       "      <td>0.7</td>\n",
       "      <td>0.7</td>\n",
       "      <td>3042.902434</td>\n",
       "      <td>2017</td>\n",
       "      <td>120</td>\n",
       "      <td>rmse</td>\n",
       "      <td>2033.956787</td>\n",
       "    </tr>\n",
       "  </tbody>\n",
       "</table>\n",
       "</div>"
      ],
      "text/plain": [
       "   eta  max_d  gamma  lambda  colsample  subsample         base  seed  round  \\\n",
       "0  0.1      4    1.2     1.3        0.7        0.7  3042.902434  2017    120   \n",
       "\n",
       "   eval  Valid_error  \n",
       "0  rmse  2033.956787  "
      ]
     },
     "execution_count": 22,
     "metadata": {},
     "output_type": "execute_result"
    }
   ],
   "source": [
    "params2 = {}\n",
    "for item in params:\n",
    "    params2[item] = [params[item]]\n",
    "observation = pd.DataFrame(params2)\n",
    "observation['round'] =  int(model.attributes()['best_iteration'])\n",
    "observation['Valid_error'] =  float(model.attributes()['best_score'])\n",
    "\n",
    "displayed_columns = ['eta', 'max_depth', 'gamma', 'lambda', 'colsample_bytree', 'subsample',\n",
    "                     'base_score', 'seed', 'round', 'eval_metric', 'Valid_error']\n",
    "observation = observation[displayed_columns]\n",
    "observation.columns = ['eta', 'max_d', 'gamma', 'lambda', 'colsample', 'subsample',\n",
    "                       'base', 'seed', 'round', 'eval', 'Valid_error']\n",
    "\n",
    "observation.head()"
   ]
  },
  {
   "cell_type": "code",
   "execution_count": 23,
   "metadata": {
    "collapsed": false
   },
   "outputs": [
    {
     "data": {
      "text/html": [
       "<div>\n",
       "<table border=\"1\" class=\"dataframe\">\n",
       "  <thead>\n",
       "    <tr style=\"text-align: right;\">\n",
       "      <th></th>\n",
       "      <th>eta</th>\n",
       "      <th>max_d</th>\n",
       "      <th>gamma</th>\n",
       "      <th>lambda</th>\n",
       "      <th>colsample</th>\n",
       "      <th>subsample</th>\n",
       "      <th>base</th>\n",
       "      <th>seed</th>\n",
       "      <th>round</th>\n",
       "      <th>eval</th>\n",
       "      <th>Valid_error</th>\n",
       "    </tr>\n",
       "  </thead>\n",
       "  <tbody>\n",
       "    <tr>\n",
       "      <th>0</th>\n",
       "      <td>0.1</td>\n",
       "      <td>3</td>\n",
       "      <td>1.2</td>\n",
       "      <td>1.3</td>\n",
       "      <td>0.7</td>\n",
       "      <td>0.7</td>\n",
       "      <td>3042.902434</td>\n",
       "      <td>2017</td>\n",
       "      <td>189</td>\n",
       "      <td>rmse</td>\n",
       "      <td>2023.676514</td>\n",
       "    </tr>\n",
       "    <tr>\n",
       "      <th>0</th>\n",
       "      <td>0.1</td>\n",
       "      <td>4</td>\n",
       "      <td>1.2</td>\n",
       "      <td>1.3</td>\n",
       "      <td>0.7</td>\n",
       "      <td>0.7</td>\n",
       "      <td>3042.902434</td>\n",
       "      <td>2017</td>\n",
       "      <td>120</td>\n",
       "      <td>rmse</td>\n",
       "      <td>2033.956787</td>\n",
       "    </tr>\n",
       "  </tbody>\n",
       "</table>\n",
       "</div>"
      ],
      "text/plain": [
       "   eta  max_d  gamma  lambda  colsample  subsample         base  seed  round  \\\n",
       "0  0.1      3    1.2     1.3        0.7        0.7  3042.902434  2017    189   \n",
       "0  0.1      4    1.2     1.3        0.7        0.7  3042.902434  2017    120   \n",
       "\n",
       "   eval  Valid_error  \n",
       "0  rmse  2023.676514  \n",
       "0  rmse  2033.956787  "
      ]
     },
     "execution_count": 23,
     "metadata": {},
     "output_type": "execute_result"
    }
   ],
   "source": [
    "params_recorder_2 = pd.concat([params_recorder_2, observation])\n",
    "params_recorder_2.head(20)"
   ]
  },
  {
   "cell_type": "markdown",
   "metadata": {},
   "source": [
    "### 6. plot feature importance (XGBoost 0.6)"
   ]
  },
  {
   "cell_type": "code",
   "execution_count": 24,
   "metadata": {
    "collapsed": false
   },
   "outputs": [
    {
     "data": {
      "text/plain": [
       "<matplotlib.axes._subplots.AxesSubplot at 0x1c498604c88>"
      ]
     },
     "execution_count": 24,
     "metadata": {},
     "output_type": "execute_result"
    },
    {
     "data": {
      "image/png": "[encoded data removed]",
      "text/plain": [
       "<matplotlib.figure.Figure at 0x1c4987da978>"
      ]
     },
     "metadata": {},
     "output_type": "display_data"
    }
   ],
   "source": [
    "fig, ax = plt.subplots(1, 1, figsize=(8,6))\n",
    "xgb.plot_importance(model, max_num_features=20, height=0.5, ax=ax)"
   ]
  },
  {
   "cell_type": "markdown",
   "metadata": {},
   "source": [
    "### 7. plot classfication trees (install graphviz first)"
   ]
  },
  {
   "cell_type": "code",
   "execution_count": 26,
   "metadata": {
    "collapsed": false
   },
   "outputs": [
    {
     "data": {
      "image/svg+xml": [
       "<?xml version=\"1.0\" encoding=\"UTF-8\" standalone=\"no\"?>\r\n",
       "<!DOCTYPE svg PUBLIC \"-//W3C//DTD SVG 1.1//EN\"\r\n",
       " \"http://www.w3.org/Graphics/SVG/1.1/DTD/svg11.dtd\">\r\n",
       "<!-- Generated by graphviz version 2.38.0 (20140413.2041)\r\n",
       " -->\r\n",
       "<!-- Title: %3 Pages: 1 -->\r\n",
       "<svg width=\"587pt\" height=\"629pt\"\r\n",
       " viewBox=\"0.00 0.00 586.50 628.87\" xmlns=\"http://www.w3.org/2000/svg\" xmlns:xlink=\"http://www.w3.org/1999/xlink\">\r\n",
       "<g id=\"graph0\" class=\"graph\" transform=\"scale(1 1) rotate(0) translate(4 624.866)\">\r\n",
       "<title>%3</title>\r\n",
       "<polygon fill=\"white\" stroke=\"none\" points=\"-4,4 -4,-624.866 582.5,-624.866 582.5,4 -4,4\"/>\r\n",
       "<!-- 0 -->\r\n",
       "<g id=\"node1\" class=\"node\"><title>0</title>\r\n",
       "<ellipse fill=\"none\" stroke=\"black\" cx=\"384.5\" cy=\"-580.57\" rx=\"40.0939\" ry=\"40.0939\"/>\r\n",
       "<text text-anchor=\"middle\" x=\"384.5\" y=\"-576.87\" font-family=\"Times New Roman,serif\" font-size=\"14.00\">cat59&lt;1</text>\r\n",
       "</g>\r\n",
       "<!-- 1 -->\r\n",
       "<g id=\"node2\" class=\"node\"><title>1</title>\r\n",
       "<ellipse fill=\"none\" stroke=\"black\" cx=\"298.5\" cy=\"-419.73\" rx=\"69.5877\" ry=\"69.5877\"/>\r\n",
       "<text text-anchor=\"middle\" x=\"298.5\" y=\"-416.03\" font-family=\"Times New Roman,serif\" font-size=\"14.00\">cont7&lt;0.999629</text>\r\n",
       "</g>\r\n",
       "<!-- 0&#45;&gt;1 -->\r\n",
       "<g id=\"edge1\" class=\"edge\"><title>0&#45;&gt;1</title>\r\n",
       "<path fill=\"none\" stroke=\"#0000ff\" d=\"M358.299,-549.483C351.657,-541.02 344.886,-531.578 339.5,-522.273 334.499,-513.635 329.825,-504.269 325.554,-494.838\"/>\r\n",
       "<polygon fill=\"#0000ff\" stroke=\"#0000ff\" points=\"328.641,-493.162 321.421,-485.408 322.23,-495.972 328.641,-493.162\"/>\r\n",
       "<text text-anchor=\"middle\" x=\"374\" y=\"-511.073\" font-family=\"Times New Roman,serif\" font-size=\"14.00\">yes, missing</text>\r\n",
       "</g>\r\n",
       "<!-- 2 -->\r\n",
       "<g id=\"node3\" class=\"node\"><title>2</title>\r\n",
       "<ellipse fill=\"none\" stroke=\"black\" cx=\"455.5\" cy=\"-419.73\" rx=\"69.5877\" ry=\"69.5877\"/>\r\n",
       "<text text-anchor=\"middle\" x=\"455.5\" y=\"-416.03\" font-family=\"Times New Roman,serif\" font-size=\"14.00\">cont9&lt;0.314935</text>\r\n",
       "</g>\r\n",
       "<!-- 0&#45;&gt;2 -->\r\n",
       "<g id=\"edge2\" class=\"edge\"><title>0&#45;&gt;2</title>\r\n",
       "<path fill=\"none\" stroke=\"#ff0000\" d=\"M400.611,-543.526C407.37,-528.405 415.482,-510.257 423.37,-492.611\"/>\r\n",
       "<polygon fill=\"#ff0000\" stroke=\"#ff0000\" points=\"426.58,-494.005 427.466,-483.447 420.19,-491.148 426.58,-494.005\"/>\r\n",
       "<text text-anchor=\"middle\" x=\"424\" y=\"-511.073\" font-family=\"Times New Roman,serif\" font-size=\"14.00\">no</text>\r\n",
       "</g>\r\n",
       "<!-- 3 -->\r\n",
       "<g id=\"node4\" class=\"node\"><title>3</title>\r\n",
       "<ellipse fill=\"none\" stroke=\"black\" cx=\"207.5\" cy=\"-258.889\" rx=\"40.0939\" ry=\"40.0939\"/>\r\n",
       "<text text-anchor=\"middle\" x=\"207.5\" y=\"-255.189\" font-family=\"Times New Roman,serif\" font-size=\"14.00\">cat73&lt;1</text>\r\n",
       "</g>\r\n",
       "<!-- 1&#45;&gt;3 -->\r\n",
       "<g id=\"edge3\" class=\"edge\"><title>1&#45;&gt;3</title>\r\n",
       "<path fill=\"none\" stroke=\"#0000ff\" d=\"M254.163,-366.051C246.296,-355.259 238.662,-343.676 232.5,-332.186 228.35,-324.447 224.676,-315.884 221.51,-307.437\"/>\r\n",
       "<polygon fill=\"#0000ff\" stroke=\"#0000ff\" points=\"224.802,-306.248 218.151,-298.001 218.207,-308.596 224.802,-306.248\"/>\r\n",
       "<text text-anchor=\"middle\" x=\"267\" y=\"-320.986\" font-family=\"Times New Roman,serif\" font-size=\"14.00\">yes, missing</text>\r\n",
       "</g>\r\n",
       "<!-- 4 -->\r\n",
       "<g id=\"node5\" class=\"node\"><title>4</title>\r\n",
       "<polygon fill=\"none\" stroke=\"black\" points=\"355,-276.889 266,-276.889 266,-240.889 355,-240.889 355,-276.889\"/>\r\n",
       "<text text-anchor=\"middle\" x=\"310.5\" y=\"-255.189\" font-family=\"Times New Roman,serif\" font-size=\"14.00\">leaf=171.019</text>\r\n",
       "</g>\r\n",
       "<!-- 1&#45;&gt;4 -->\r\n",
       "<g id=\"edge4\" class=\"edge\"><title>1&#45;&gt;4</title>\r\n",
       "<path fill=\"none\" stroke=\"#ff0000\" d=\"M303.694,-349.984C305.372,-327.765 307.136,-304.411 308.448,-287.049\"/>\r\n",
       "<polygon fill=\"#ff0000\" stroke=\"#ff0000\" points=\"311.938,-287.312 309.202,-277.077 304.958,-286.785 311.938,-287.312\"/>\r\n",
       "<text text-anchor=\"middle\" x=\"314\" y=\"-320.986\" font-family=\"Times New Roman,serif\" font-size=\"14.00\">no</text>\r\n",
       "</g>\r\n",
       "<!-- 5 -->\r\n",
       "<g id=\"node12\" class=\"node\"><title>5</title>\r\n",
       "<polygon fill=\"none\" stroke=\"black\" points=\"478,-276.889 385,-276.889 385,-240.889 478,-240.889 478,-276.889\"/>\r\n",
       "<text text-anchor=\"middle\" x=\"431.5\" y=\"-255.189\" font-family=\"Times New Roman,serif\" font-size=\"14.00\">leaf=&#45;11.0555</text>\r\n",
       "</g>\r\n",
       "<!-- 2&#45;&gt;5 -->\r\n",
       "<g id=\"edge11\" class=\"edge\"><title>2&#45;&gt;5</title>\r\n",
       "<path fill=\"none\" stroke=\"#0000ff\" d=\"M445.252,-350.906C441.855,-328.422 438.266,-304.669 435.607,-287.069\"/>\r\n",
       "<polygon fill=\"#0000ff\" stroke=\"#0000ff\" points=\"439.036,-286.336 434.081,-276.972 432.114,-287.382 439.036,-286.336\"/>\r\n",
       "<text text-anchor=\"middle\" x=\"477\" y=\"-320.986\" font-family=\"Times New Roman,serif\" font-size=\"14.00\">yes, missing</text>\r\n",
       "</g>\r\n",
       "<!-- 6 -->\r\n",
       "<g id=\"node13\" class=\"node\"><title>6</title>\r\n",
       "<polygon fill=\"none\" stroke=\"black\" points=\"578.5,-276.889 496.5,-276.889 496.5,-240.889 578.5,-240.889 578.5,-276.889\"/>\r\n",
       "<text text-anchor=\"middle\" x=\"537.5\" y=\"-255.189\" font-family=\"Times New Roman,serif\" font-size=\"14.00\">leaf=197.92</text>\r\n",
       "</g>\r\n",
       "<!-- 2&#45;&gt;6 -->\r\n",
       "<g id=\"edge12\" class=\"edge\"><title>2&#45;&gt;6</title>\r\n",
       "<path fill=\"none\" stroke=\"#ff0000\" d=\"M497.213,-363.953C503.906,-353.726 510.322,-342.882 515.5,-332.186 522.424,-317.882 527.721,-300.929 531.38,-287.036\"/>\r\n",
       "<polygon fill=\"#ff0000\" stroke=\"#ff0000\" points=\"534.834,-287.653 533.859,-277.103 528.042,-285.958 534.834,-287.653\"/>\r\n",
       "<text text-anchor=\"middle\" x=\"529\" y=\"-320.986\" font-family=\"Times New Roman,serif\" font-size=\"14.00\">no</text>\r\n",
       "</g>\r\n",
       "<!-- 7 -->\r\n",
       "<g id=\"node6\" class=\"node\"><title>7</title>\r\n",
       "<ellipse fill=\"none\" stroke=\"black\" cx=\"157.5\" cy=\"-127.296\" rx=\"40.0939\" ry=\"40.0939\"/>\r\n",
       "<text text-anchor=\"middle\" x=\"157.5\" y=\"-123.596\" font-family=\"Times New Roman,serif\" font-size=\"14.00\">cat32&lt;1</text>\r\n",
       "</g>\r\n",
       "<!-- 3&#45;&gt;7 -->\r\n",
       "<g id=\"edge5\" class=\"edge\"><title>3&#45;&gt;7</title>\r\n",
       "<path fill=\"none\" stroke=\"#0000ff\" d=\"M183.818,-226.074C178.769,-218.083 173.932,-209.295 170.5,-200.593 167.638,-193.336 165.401,-185.419 163.655,-177.572\"/>\r\n",
       "<polygon fill=\"#0000ff\" stroke=\"#0000ff\" points=\"167.08,-176.849 161.694,-167.725 160.214,-178.215 167.08,-176.849\"/>\r\n",
       "<text text-anchor=\"middle\" x=\"205\" y=\"-189.393\" font-family=\"Times New Roman,serif\" font-size=\"14.00\">yes, missing</text>\r\n",
       "</g>\r\n",
       "<!-- 8 -->\r\n",
       "<g id=\"node7\" class=\"node\"><title>8</title>\r\n",
       "<ellipse fill=\"none\" stroke=\"black\" cx=\"266.5\" cy=\"-127.296\" rx=\"40.0939\" ry=\"40.0939\"/>\r\n",
       "<text text-anchor=\"middle\" x=\"266.5\" y=\"-123.596\" font-family=\"Times New Roman,serif\" font-size=\"14.00\">cat72&lt;1</text>\r\n",
       "</g>\r\n",
       "<!-- 3&#45;&gt;8 -->\r\n",
       "<g id=\"edge6\" class=\"edge\"><title>3&#45;&gt;8</title>\r\n",
       "<path fill=\"none\" stroke=\"#ff0000\" d=\"M227.656,-223.79C231.792,-216.26 235.959,-208.245 239.5,-200.593 243.22,-192.553 246.82,-183.844 250.113,-175.347\"/>\r\n",
       "<polygon fill=\"#ff0000\" stroke=\"#ff0000\" points=\"253.425,-176.483 253.691,-165.892 246.878,-174.006 253.425,-176.483\"/>\r\n",
       "<text text-anchor=\"middle\" x=\"254\" y=\"-189.393\" font-family=\"Times New Roman,serif\" font-size=\"14.00\">no</text>\r\n",
       "</g>\r\n",
       "<!-- 9 -->\r\n",
       "<g id=\"node8\" class=\"node\"><title>9</title>\r\n",
       "<polygon fill=\"none\" stroke=\"black\" points=\"95,-36 0,-36 0,-0 95,-0 95,-36\"/>\r\n",
       "<text text-anchor=\"middle\" x=\"47.5\" y=\"-14.3\" font-family=\"Times New Roman,serif\" font-size=\"14.00\">leaf=0.242818</text>\r\n",
       "</g>\r\n",
       "<!-- 7&#45;&gt;9 -->\r\n",
       "<g id=\"edge7\" class=\"edge\"><title>7&#45;&gt;9</title>\r\n",
       "<path fill=\"none\" stroke=\"#0000ff\" d=\"M124.675,-103.499C111.515,-93.6241 96.6278,-81.4771 84.5,-69 77.2378,-61.5287 70.194,-52.5868 64.2355,-44.344\"/>\r\n",
       "<polygon fill=\"#0000ff\" stroke=\"#0000ff\" points=\"67.0614,-42.2778 58.4554,-36.0983 61.3294,-46.2958 67.0614,-42.2778\"/>\r\n",
       "<text text-anchor=\"middle\" x=\"119\" y=\"-57.8\" font-family=\"Times New Roman,serif\" font-size=\"14.00\">yes, missing</text>\r\n",
       "</g>\r\n",
       "<!-- 10 -->\r\n",
       "<g id=\"node9\" class=\"node\"><title>10</title>\r\n",
       "<polygon fill=\"none\" stroke=\"black\" points=\"202,-36 113,-36 113,-0 202,-0 202,-36\"/>\r\n",
       "<text text-anchor=\"middle\" x=\"157.5\" y=\"-14.3\" font-family=\"Times New Roman,serif\" font-size=\"14.00\">leaf=92.2108</text>\r\n",
       "</g>\r\n",
       "<!-- 7&#45;&gt;10 -->\r\n",
       "<g id=\"edge8\" class=\"edge\"><title>7&#45;&gt;10</title>\r\n",
       "<path fill=\"none\" stroke=\"#ff0000\" d=\"M157.5,-86.9525C157.5,-73.4449 157.5,-58.6322 157.5,-46.294\"/>\r\n",
       "<polygon fill=\"#ff0000\" stroke=\"#ff0000\" points=\"161,-46.1832 157.5,-36.1832 154,-46.1833 161,-46.1832\"/>\r\n",
       "<text text-anchor=\"middle\" x=\"165\" y=\"-57.8\" font-family=\"Times New Roman,serif\" font-size=\"14.00\">no</text>\r\n",
       "</g>\r\n",
       "<!-- 11 -->\r\n",
       "<g id=\"node10\" class=\"node\"><title>11</title>\r\n",
       "<polygon fill=\"none\" stroke=\"black\" points=\"313,-36 220,-36 220,-0 313,-0 313,-36\"/>\r\n",
       "<text text-anchor=\"middle\" x=\"266.5\" y=\"-14.3\" font-family=\"Times New Roman,serif\" font-size=\"14.00\">leaf=&#45;5.85084</text>\r\n",
       "</g>\r\n",
       "<!-- 8&#45;&gt;11 -->\r\n",
       "<g id=\"edge9\" class=\"edge\"><title>8&#45;&gt;11</title>\r\n",
       "<path fill=\"none\" stroke=\"#0000ff\" d=\"M266.5,-86.9525C266.5,-73.4449 266.5,-58.6322 266.5,-46.294\"/>\r\n",
       "<polygon fill=\"#0000ff\" stroke=\"#0000ff\" points=\"270,-46.1832 266.5,-36.1832 263,-46.1833 270,-46.1832\"/>\r\n",
       "<text text-anchor=\"middle\" x=\"301\" y=\"-57.8\" font-family=\"Times New Roman,serif\" font-size=\"14.00\">yes, missing</text>\r\n",
       "</g>\r\n",
       "<!-- 12 -->\r\n",
       "<g id=\"node11\" class=\"node\"><title>12</title>\r\n",
       "<polygon fill=\"none\" stroke=\"black\" points=\"424,-36 331,-36 331,-0 424,-0 424,-36\"/>\r\n",
       "<text text-anchor=\"middle\" x=\"377.5\" y=\"-14.3\" font-family=\"Times New Roman,serif\" font-size=\"14.00\">leaf=&#45;34.8516</text>\r\n",
       "</g>\r\n",
       "<!-- 8&#45;&gt;12 -->\r\n",
       "<g id=\"edge10\" class=\"edge\"><title>8&#45;&gt;12</title>\r\n",
       "<path fill=\"none\" stroke=\"#ff0000\" d=\"M299.245,-103.421C312.393,-93.5341 327.293,-81.3992 339.5,-69 346.88,-61.5037 354.095,-52.5556 360.221,-44.3149\"/>\r\n",
       "<polygon fill=\"#ff0000\" stroke=\"#ff0000\" points=\"363.155,-46.2301 366.172,-36.0738 357.48,-42.1321 363.155,-46.2301\"/>\r\n",
       "<text text-anchor=\"middle\" x=\"360\" y=\"-57.8\" font-family=\"Times New Roman,serif\" font-size=\"14.00\">no</text>\r\n",
       "</g>\r\n",
       "</g>\r\n",
       "</svg>\r\n"
      ],
      "text/plain": [
       "<graphviz.dot.Digraph at 0x1c49c6efeb8>"
      ]
     },
     "execution_count": 26,
     "metadata": {},
     "output_type": "execute_result"
    }
   ],
   "source": [
    "xgb.to_graphviz(booster = model, num_trees=100)"
   ]
  },
  {
   "cell_type": "markdown",
   "metadata": {},
   "source": [
    "### 8. save and load model"
   ]
  },
  {
   "cell_type": "code",
   "execution_count": 27,
   "metadata": {
    "collapsed": true
   },
   "outputs": [],
   "source": [
    "model.save_model('XGBoost_1.model')\n",
    "del model\n",
    "model = xgb.Booster(model_file = 'XGBoost_1.model')"
   ]
  },
  {
   "cell_type": "markdown",
   "metadata": {},
   "source": [
    "### 9. make predictions"
   ]
  },
  {
   "cell_type": "code",
   "execution_count": 28,
   "metadata": {
    "collapsed": true
   },
   "outputs": [],
   "source": [
    "y_test = model.predict(X_test)   \n",
    "submission = pd.DataFrame({'id':test_id, 'loss':y_test})"
   ]
  },
  {
   "cell_type": "code",
   "execution_count": 29,
   "metadata": {
    "collapsed": false
   },
   "outputs": [
    {
     "data": {
      "text/html": [
       "<div>\n",
       "<table border=\"1\" class=\"dataframe\">\n",
       "  <thead>\n",
       "    <tr style=\"text-align: right;\">\n",
       "      <th></th>\n",
       "      <th>id</th>\n",
       "      <th>loss</th>\n",
       "    </tr>\n",
       "  </thead>\n",
       "  <tbody>\n",
       "    <tr>\n",
       "      <th>0</th>\n",
       "      <td>4</td>\n",
       "      <td>1851.045776</td>\n",
       "    </tr>\n",
       "    <tr>\n",
       "      <th>1</th>\n",
       "      <td>6</td>\n",
       "      <td>1949.475342</td>\n",
       "    </tr>\n",
       "    <tr>\n",
       "      <th>2</th>\n",
       "      <td>9</td>\n",
       "      <td>10304.735352</td>\n",
       "    </tr>\n",
       "    <tr>\n",
       "      <th>3</th>\n",
       "      <td>12</td>\n",
       "      <td>5521.456055</td>\n",
       "    </tr>\n",
       "    <tr>\n",
       "      <th>4</th>\n",
       "      <td>15</td>\n",
       "      <td>1133.838989</td>\n",
       "    </tr>\n",
       "    <tr>\n",
       "      <th>5</th>\n",
       "      <td>17</td>\n",
       "      <td>1901.340088</td>\n",
       "    </tr>\n",
       "    <tr>\n",
       "      <th>6</th>\n",
       "      <td>21</td>\n",
       "      <td>1900.847412</td>\n",
       "    </tr>\n",
       "    <tr>\n",
       "      <th>7</th>\n",
       "      <td>28</td>\n",
       "      <td>709.679688</td>\n",
       "    </tr>\n",
       "    <tr>\n",
       "      <th>8</th>\n",
       "      <td>32</td>\n",
       "      <td>2493.802002</td>\n",
       "    </tr>\n",
       "    <tr>\n",
       "      <th>9</th>\n",
       "      <td>43</td>\n",
       "      <td>2666.297119</td>\n",
       "    </tr>\n",
       "  </tbody>\n",
       "</table>\n",
       "</div>"
      ],
      "text/plain": [
       "   id          loss\n",
       "0   4   1851.045776\n",
       "1   6   1949.475342\n",
       "2   9  10304.735352\n",
       "3  12   5521.456055\n",
       "4  15   1133.838989\n",
       "5  17   1901.340088\n",
       "6  21   1900.847412\n",
       "7  28    709.679688\n",
       "8  32   2493.802002\n",
       "9  43   2666.297119"
      ]
     },
     "execution_count": 29,
     "metadata": {},
     "output_type": "execute_result"
    }
   ],
   "source": [
    "submission.head(10)"
   ]
  },
  {
   "cell_type": "code",
   "execution_count": null,
   "metadata": {
    "collapsed": true
   },
   "outputs": [],
   "source": []
  }
 ],
 "metadata": {
  "anaconda-cloud": {},
  "kernelspec": {
   "display_name": "Python [default]",
   "language": "python",
   "name": "python3"
  },
  "language_info": {
   "codemirror_mode": {
    "name": "ipython",
    "version": 3
   },
   "file_extension": ".py",
   "mimetype": "text/x-python",
   "name": "python",
   "nbconvert_exporter": "python",
   "pygments_lexer": "ipython3",
   "version": "3.5.2"
  }
 },
 "nbformat": 4,
 "nbformat_minor": 1
}
